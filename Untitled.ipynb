{
 "cells": [
  {
   "cell_type": "code",
   "execution_count": 8,
   "id": "3cd0d29c",
   "metadata": {
    "height": 81
   },
   "outputs": [],
   "source": [
    "from helper import get_openai_api_key\n",
    "OPENAI_API_KEY = get_openai_api_key()\n",
    "import nest_asyncio\n",
    "nest_asyncio.apply()"
   ]
  },
  {
   "cell_type": "code",
   "execution_count": 15,
   "id": "0be521fb",
   "metadata": {
    "height": 183
   },
   "outputs": [],
   "source": [
    "urls = [\"https://openreview.net/pdf?id=tc90LV0yRL\",\n",
    "        \"https://openreview.net/pdf?id=DOMP5AgwQz\",\n",
    "        \"https://openreview.net/pdf?id=3qFtGLGyO3\"\n",
    "    \n",
    "]\n",
    "\n",
    "papers = [\"5074_Cybench_A_Framework_for_E.pdf\",\n",
    "          \"74_CTIKG_LLM_Powered_Knowledge.pdf\",\n",
    "          \"28_Artificial_Intelligence_Bas.pdf\"\n",
    "]"
   ]
  },
  {
   "cell_type": "code",
   "execution_count": 16,
   "id": "8ff4ed09",
   "metadata": {
    "height": 149
   },
   "outputs": [
    {
     "name": "stdout",
     "output_type": "stream",
     "text": [
      "Gathering info from the paper: 5074_Cybench_A_Framework_for_E.pdf\n",
      "Gathering info from the paper: 74_CTIKG_LLM_Powered_Knowledge.pdf\n",
      "Gathering info from the paper: 28_Artificial_Intelligence_Bas.pdf\n"
     ]
    }
   ],
   "source": [
    "from utils import get_doc_tools\n",
    "from pathlib import Path\n",
    "\n",
    "paper_to_tools_dict = {}\n",
    "for paper in papers:\n",
    "    print(f\"Gathering info from the paper: {paper}\")\n",
    "    vector_tool, summary_tool = get_doc_tools(paper, Path(paper).stem)\n",
    "    paper_to_tools_dict[paper] = [vector_tool, summary_tool]"
   ]
  },
  {
   "cell_type": "code",
   "execution_count": 17,
   "id": "df547e26",
   "metadata": {
    "height": 30
   },
   "outputs": [],
   "source": [
    "initial_tools = [t for paper in papers for t in paper_to_tools_dict[paper]]"
   ]
  },
  {
   "cell_type": "code",
   "execution_count": 18,
   "id": "3f4a5ec9",
   "metadata": {
    "height": 64
   },
   "outputs": [],
   "source": [
    "from llama_index.llms.openai import OpenAI\n",
    "\n",
    "llm = OpenAI(model=\"gpt-3.5-turbo\")"
   ]
  },
  {
   "cell_type": "code",
   "execution_count": 19,
   "id": "90d8c5a3",
   "metadata": {
    "height": 30
   },
   "outputs": [
    {
     "data": {
      "text/plain": [
       "6"
      ]
     },
     "execution_count": 19,
     "metadata": {},
     "output_type": "execute_result"
    }
   ],
   "source": [
    "len(initial_tools)"
   ]
  },
  {
   "cell_type": "code",
   "execution_count": 20,
   "id": "6d4ef9a7",
   "metadata": {
    "height": 166
   },
   "outputs": [],
   "source": [
    "from llama_index.core.agent import FunctionCallingAgentWorker\n",
    "from llama_index.core.agent import AgentRunner\n",
    "\n",
    "agent_worker = FunctionCallingAgentWorker.from_tools(\n",
    "    initial_tools, \n",
    "    llm=llm, \n",
    "    verbose=True\n",
    ")\n",
    "agent = AgentRunner(agent_worker)"
   ]
  },
  {
   "cell_type": "code",
   "execution_count": 21,
   "id": "8562b19c",
   "metadata": {
    "height": 64
   },
   "outputs": [
    {
     "name": "stdout",
     "output_type": "stream",
     "text": [
      "Added user message to memory: Summarize 5074_Cybench_A_Framework_for_E.pdf\n",
      "=== Calling Function ===\n",
      "Calling function: summary_tool_5074_Cybench_A_Framework_for_E with args: {\"input\": \"Summarize the paper 5074_Cybench_A_Framework_for_E.pdf\"}\n",
      "=== Function Output ===\n",
      "The paper \"5074_Cybench_A_Framework_for_E.pdf\" evaluates different agent scaffolding approaches in cybersecurity challenges, emphasizing the importance of agent expressivity and adaptability. It introduces the Cybench framework for assessing agent performance in cybersecurity tasks across various categories and competitions. The framework includes data on agent performance in tasks like web, reverse, crypto, forensics, pwn, and miscellaneous challenges from competitions such as HackTheBox, Glacier, Sekai-2023, Sekai-2022, and HKCert. The paper discusses the efficiency of agents in completing tasks within specific time frames and token usage, as well as challenges like RPGO and Cell, safety refusals, and encryption/decryption processes using custom algorithms for extracting flags from files.\n",
      "=== LLM Response ===\n",
      "The paper \"5074_Cybench_A_Framework_for_E.pdf\" evaluates different agent scaffolding approaches in cybersecurity challenges, emphasizing the importance of agent expressivity and adaptability. It introduces the Cybench framework for assessing agent performance in cybersecurity tasks across various categories and competitions. The framework includes data on agent performance in tasks like web, reverse, crypto, forensics, pwn, and miscellaneous challenges from competitions such as HackTheBox, Glacier, Sekai-2023, Sekai-2022, and HKCert. The paper discusses the efficiency of agents in completing tasks within specific time frames and token usage, as well as challenges like RPGO and Cell, safety refusals, and encryption/decryption processes using custom algorithms for extracting flags from files.\n"
     ]
    }
   ],
   "source": [
    "response = agent.query(\n",
    "    \"Summarize 5074_Cybench_A_Framework_for_E.pdf\"\n",
    ")"
   ]
  }
 ],
 "metadata": {
  "kernelspec": {
   "display_name": "Python 3 (ipykernel)",
   "language": "python",
   "name": "python3"
  },
  "language_info": {
   "codemirror_mode": {
    "name": "ipython",
    "version": 3
   },
   "file_extension": ".py",
   "mimetype": "text/x-python",
   "name": "python",
   "nbconvert_exporter": "python",
   "pygments_lexer": "ipython3",
   "version": "3.11.9"
  }
 },
 "nbformat": 4,
 "nbformat_minor": 5
}
